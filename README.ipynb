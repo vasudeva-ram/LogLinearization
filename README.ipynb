{
 "cells": [
  {
   "cell_type": "markdown",
   "metadata": {},
   "source": [
    "# Overview\n",
    "The **LogLinearizer** package generates symbolic log-linearized representations of dynamic nonlinear equations using a first-order Taylor Series approximation.\n",
    "The tool is designed with macroeconomic DSGE models in mind, and supports the DYNARE notation.\n",
    "However, while DYNARE _solves_ the model, this package focuses on providing the symbolic linearized equations, which are often helpful in driving intuition."
   ]
  },
  {
   "cell_type": "markdown",
   "metadata": {},
   "source": [
    "# How to use the LogLinearization package\n",
    "There are two ways to use this package. \n",
    "The first method assumes that you have a fully built out DYNARE mod file.\n",
    "This means, for each variable and each parameter, the file provides a TeX representation, steady state values and so on.\n",
    "The second method is based on providing the necessary dictionaries to the package separately, and is more convenient when you only have a couple of equations to log-linearize.\n",
    "Below, I provide examples and use cases for each method."
   ]
  },
  {
   "cell_type": "markdown",
   "metadata": {},
   "source": [
    "## Option 1: Using a .mod file\n",
    "For this method, I assume that you have a fully written out .mod file available with the DYNARE code fully written out.\n",
    "For best results, this .mod file should have the following features:\n",
    "1. Defined TeX representations for each variable and parameter defined in the file, like so\n",
    "``` \n",
    "var C   ${C}$\n",
    "    Pi  ${\\Pi}$\n",
    "    A   ${A}$\n",
    "    ...\n",
    "    \n",
    "parameters  alppha  ${\\alpha}$\n",
    "            betta   ${\\beta}$\n",
    "            ...\n",
    "                \n",
    "```\n",
    "This allows the resulting log-linearized equations to look like LaTeX output.\n",
    "In the absence of these TeX representations, the package uses the name of the variable/parameter directly, but this ends up representing percentage deviations of inflation from its steady state as $\\hat{Pi}$ instead of $\\hat{\\Pi}$, which is worse looking.\n",
    "\n",
    "2. A defined `steady_state_model` block\n",
    "Providing steady state values for some of the variables helps the simplification process enormously and makes the end result look cleaner.\n",
    "Even if you don't have the steady state fully derived, if you have some specific steady state values, you should provide those.\n",
    "For example, if you are linearizing around a zero-inflation steady state, you gross inflation rate would be equal to 1. You should provide this value.\n",
    "**IMPORTANT**: This package _log_-linearizes the equations in your model.\n",
    "This means that the steady state values of your variables cannot be equal to zero (since $\\log{0}$ is not defined).\n",
    "If you have variables taking on a steady-state value of zero, redefine the variable to be equal to 1.\n",
    "For example, rather than use a net inflation rate $\\pi$ of zero, use a gross inflation rate $\\Pi = 1 + \\pi$ with a steady-state value of 1."
   ]
  },
  {
   "cell_type": "markdown",
   "metadata": {},
   "source": [
    "### Generating the log-linearized equations\n",
    "For this tutorial, I will use a [(]simple NK model](https://github.com/JohannesPfeifer/DSGE_mod/blob/master/Gali_2008/Gali_2008_chapter_2.mod) with capital from Johannes Pfeifer's excellent collection of DSGE models in DYNARE.\n",
    "Start by importing this file from wherever you have saved it."
   ]
  },
  {
   "cell_type": "code",
   "execution_count": 1,
   "metadata": {},
   "outputs": [
    {
     "name": "stdout",
     "output_type": "stream",
     "text": [
      "IPython console for SymPy 1.12 (Python 3.11.4-64-bit) (ground types: python)\n",
      "\n",
      "These commands were executed:\n",
      ">>> from sympy import *\n",
      ">>> x, y, z, t = symbols('x y z t')\n",
      ">>> k, m, n = symbols('k m n', integer=True)\n",
      ">>> f, g, h = symbols('f g h', cls=Function)\n",
      ">>> init_printing()\n",
      "\n",
      "Documentation can be found at https://docs.sympy.org/1.12/\n",
      "\n"
     ]
    }
   ],
   "source": [
    "import LogLinearization as ll"
   ]
  },
  {
   "cell_type": "markdown",
   "metadata": {},
   "source": [
    "Next, call the `createModEconomy()` function on this file.\n",
    "This returns two objects: (1) a `ModEconomy` object which contains variables, parameters and steady-state values and their dynamic representations, and (2) a list of `Equation` objects that represent the equations of the model."
   ]
  },
  {
   "cell_type": "code",
   "execution_count": 2,
   "metadata": {},
   "outputs": [],
   "source": [
    "nk, eqns = ll.createModEconomy('SimpleNK.mod')"
   ]
  },
  {
   "cell_type": "markdown",
   "metadata": {},
   "source": [
    "`nk` here is the `ModEconomy` object, while eqns is a `list` containing the `Equation` objects.\n",
    "To generate the log-linearized versions of these equations, I use the `loglin()` method of the Equation objects:"
   ]
  },
  {
   "cell_type": "code",
   "execution_count": 8,
   "metadata": {},
   "outputs": [
    {
     "data": {
      "image/png": "[encoded data removed]",
      "text/latex": [
       "$\\displaystyle \\hat{{\\frac{W}{P}}}_t = \\hat{{C}}_t {\\sigma} + \\hat{{N}}_t {\\phi}$"
      ],
      "text/plain": [
       "\\hat{{\\frac{W}{P}}}ₜ = \\hat{{C}}ₜ⋅{\\sigma} + \\hat{{N}}ₜ⋅{\\phi}"
      ]
     },
     "metadata": {},
     "output_type": "display_data"
    },
    {
     "data": {
      "image/png": "[encoded data removed]",
      "text/latex": [
       "$\\displaystyle - \\hat{{R^n}}_t = \\hat{{C}}_t {\\sigma} - \\hat{{C}}_{t+1} {\\sigma} - \\hat{{\\Pi}}_{t+1}$"
      ],
      "text/plain": [
       "-\\hat{{R_t__n}} = \\hat{{C}}ₜ⋅{\\sigma} - \\hat{{C}}_{t+1}⋅{\\sigma} - \\hat{{\\Pi}}\n",
       "_{t+1}"
      ]
     },
     "metadata": {},
     "output_type": "display_data"
    },
    {
     "data": {
      "image/png": "[encoded data removed]",
      "text/latex": [
       "$\\displaystyle \\hat{{A}}_t + \\hat{{N}}_t \\left(1 - {\\alpha}\\right) = \\hat{{C}}_t$"
      ],
      "text/plain": [
       "\\hat{{A}}ₜ + \\hat{{N}}ₜ⋅(1 - {\\alpha}) = \\hat{{C}}ₜ"
      ]
     },
     "metadata": {},
     "output_type": "display_data"
    },
    {
     "data": {
      "image/png": "[encoded data removed]",
      "text/latex": [
       "$\\displaystyle \\hat{{\\frac{W}{P}}}_t = \\hat{{A}}_t - \\hat{{N}}_t {\\alpha}$"
      ],
      "text/plain": [
       "\\hat{{\\frac{W}{P}}}ₜ = \\hat{{A}}ₜ - \\hat{{N}}ₜ⋅{\\alpha}"
      ]
     },
     "metadata": {},
     "output_type": "display_data"
    },
    {
     "data": {
      "image/png": "[encoded data removed]",
      "text/latex": [
       "$\\displaystyle \\hat{{R^{r}}}_t = \\hat{{R^n}}_t - \\hat{{\\Pi}}_{t+1}$"
      ],
      "text/plain": [
       "\\hat{{R_t__{r}}} = \\hat{{R_t__n}} - \\hat{{\\Pi}}_{t+1}"
      ]
     },
     "metadata": {},
     "output_type": "display_data"
    },
    {
     "data": {
      "image/png": "[encoded data removed]",
      "text/latex": [
       "$\\displaystyle \\hat{{R^n}}_t = \\frac{\\bar{{\\Pi}}^{{\\phi_{\\pi}}} \\hat{{\\Pi}}_t {\\phi_{\\pi}} + \\bar{{\\varepsilon_m}} \\hat{{\\varepsilon_m}}_t {\\beta}}{\\bar{{\\Pi}}^{{\\phi_{\\pi}}} + \\bar{{\\varepsilon_m}} {\\beta}}$"
      ],
      "text/plain": [
       "                            {\\phi_{\\pi}}                                      \n",
       "                 \\bar{{\\Pi}}            ⋅\\hat{{\\Pi}}ₜ⋅{\\phi_{\\pi}} + \\bar{{\\va\n",
       "\\hat{{R_t__n}} = ─────────────────────────────────────────────────────────────\n",
       "                                                     {\\phi_{\\pi}}             \n",
       "                                          \\bar{{\\Pi}}             + \\bar{{\\var\n",
       "\n",
       "                                            \n",
       "repsilon_m}}⋅\\hat{{\\varepsilon_m}}_t⋅{\\beta}\n",
       "────────────────────────────────────────────\n",
       "                                            \n",
       "epsilon_m}}⋅{\\beta}                         "
      ]
     },
     "metadata": {},
     "output_type": "display_data"
    }
   ],
   "source": [
    "for eqn in eqns[:6]:\n",
    "    display(eqn.loglin())"
   ]
  },
  {
   "cell_type": "code",
   "execution_count": 7,
   "metadata": {},
   "outputs": [
    {
     "data": {
      "image/png": "[encoded data removed]",
      "text/latex": [
       "$\\displaystyle {\\frac{W}{P}}_t = {C}_t^{{\\sigma}} {N}_t^{{\\phi}}$"
      ],
      "text/plain": [
       "                     {\\sigma}     {\\phi}\n",
       "{\\frac{W}{P}}ₜ = {C}ₜ        ⋅{N}ₜ      "
      ]
     },
     "execution_count": 7,
     "metadata": {},
     "output_type": "execute_result"
    }
   ],
   "source": [
    "eqns[0].expr"
   ]
  },
  {
   "cell_type": "code",
   "execution_count": null,
   "metadata": {},
   "outputs": [],
   "source": []
  }
 ],
 "metadata": {
  "kernelspec": {
   "display_name": "Python 3",
   "language": "python",
   "name": "python3"
  },
  "language_info": {
   "codemirror_mode": {
    "name": "ipython",
    "version": 3
   },
   "file_extension": ".py",
   "mimetype": "text/x-python",
   "name": "python",
   "nbconvert_exporter": "python",
   "pygments_lexer": "ipython3",
   "version": "3.11.4"
  }
 },
 "nbformat": 4,
 "nbformat_minor": 2
}
